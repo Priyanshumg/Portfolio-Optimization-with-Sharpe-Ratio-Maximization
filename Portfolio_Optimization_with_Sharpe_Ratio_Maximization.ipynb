{
  "nbformat": 4,
  "nbformat_minor": 0,
  "metadata": {
    "colab": {
      "provenance": [],
      "authorship_tag": "ABX9TyOLIQxzIuNWOMthHM5bgzXz",
      "include_colab_link": true
    },
    "kernelspec": {
      "name": "python3",
      "display_name": "Python 3"
    },
    "language_info": {
      "name": "python"
    }
  },
  "cells": [
    {
      "cell_type": "markdown",
      "metadata": {
        "id": "view-in-github",
        "colab_type": "text"
      },
      "source": [
        "<a href=\"https://colab.research.google.com/github/Priyanshumg/Portfolio-Optimization-with-Sharpe-Ratio-Maximization/blob/main/Portfolio_Optimization_with_Sharpe_Ratio_Maximization.ipynb\" target=\"_parent\"><img src=\"https://colab.research.google.com/assets/colab-badge.svg\" alt=\"Open In Colab\"/></a>"
      ]
    },
    {
      "cell_type": "markdown",
      "source": [
        "**Required Libraries**"
      ],
      "metadata": {
        "id": "kZZ-p1cZuZTm"
      }
    },
    {
      "cell_type": "code",
      "execution_count": null,
      "metadata": {
        "id": "P3wQRv3ZuJ-d"
      },
      "outputs": [],
      "source": [
        "import numpy as np\n",
        "import pandas as pd\n",
        "import yfinance as yf\n",
        "import matplotlib.pyplot as plt\n",
        "from scipy.optimize import minimize\n",
        "from datetime import datetime, timedelta"
      ]
    },
    {
      "cell_type": "markdown",
      "source": [
        "**Defining Tickers and Time Range**"
      ],
      "metadata": {
        "id": "czyb1JkVu2a5"
      }
    },
    {
      "cell_type": "code",
      "source": [
        "tickers = ['SPY', 'BND', 'GLD', 'QQQ', 'VTI']"
      ],
      "metadata": {
        "id": "lxvrMNBxuzEw"
      },
      "execution_count": null,
      "outputs": []
    },
    {
      "cell_type": "markdown",
      "source": [
        "Setting Start and End Date for Dataset"
      ],
      "metadata": {
        "id": "tXmGCiLbvP2j"
      }
    },
    {
      "cell_type": "code",
      "source": [
        "end_date = datetime.today()\n",
        "start_date = end_date - timedelta(days=365)\n",
        "print(f\"StartDate: {start_date}, EndDate: {end_date}\")"
      ],
      "metadata": {
        "colab": {
          "base_uri": "https://localhost:8080/"
        },
        "id": "4twXhYVivPNS",
        "outputId": "7e7f911d-6fb9-4251-f956-1506dfcb9873"
      },
      "execution_count": null,
      "outputs": [
        {
          "output_type": "stream",
          "name": "stdout",
          "text": [
            "StartDate: 2024-08-19 05:12:26.596672, EndDate: 2025-08-19 05:12:26.596672\n"
          ]
        }
      ]
    },
    {
      "cell_type": "markdown",
      "source": [
        "# **Downloading Adjusted Close Prices**"
      ],
      "metadata": {
        "id": "0lcbwQKgvlvs"
      }
    },
    {
      "cell_type": "markdown",
      "source": [
        "**Creating an Empty DataFrame to store the adjusted close price**"
      ],
      "metadata": {
        "id": "0NaHgJPIvtfV"
      }
    },
    {
      "cell_type": "code",
      "source": [
        "adj_close_df = pd.DataFrame()"
      ],
      "metadata": {
        "id": "_8_7s-0-vlXP"
      },
      "execution_count": null,
      "outputs": []
    },
    {
      "cell_type": "code",
      "source": [
        "for ticker in tickers:\n",
        "    data = yf.download(ticker, start=start_date, end=end_date)\n",
        "    if 'Adj Close' in data.columns:\n",
        "        adj_close_df[ticker] = data['Adj Close']\n",
        "    elif 'Close' in data.columns:   # fallback if no Adj Close\n",
        "        adj_close_df[ticker] = data['Close']\n",
        "    else:\n",
        "        print(f\"No price data found for {ticker}\")"
      ],
      "metadata": {
        "colab": {
          "base_uri": "https://localhost:8080/"
        },
        "id": "B6ydxMYxvYl4",
        "outputId": "c4e3f465-849c-4f42-f0a2-00bfb414a9dd"
      },
      "execution_count": null,
      "outputs": [
        {
          "output_type": "stream",
          "name": "stderr",
          "text": [
            "/tmp/ipython-input-566370483.py:2: FutureWarning: YF.download() has changed argument auto_adjust default to True\n",
            "  data = yf.download(ticker, start=start_date, end=end_date)\n",
            "\r[*********************100%***********************]  1 of 1 completed\n",
            "/tmp/ipython-input-566370483.py:2: FutureWarning: YF.download() has changed argument auto_adjust default to True\n",
            "  data = yf.download(ticker, start=start_date, end=end_date)\n",
            "[*********************100%***********************]  1 of 1 completed\n",
            "/tmp/ipython-input-566370483.py:2: FutureWarning: YF.download() has changed argument auto_adjust default to True\n",
            "  data = yf.download(ticker, start=start_date, end=end_date)\n",
            "[*********************100%***********************]  1 of 1 completed\n",
            "/tmp/ipython-input-566370483.py:2: FutureWarning: YF.download() has changed argument auto_adjust default to True\n",
            "  data = yf.download(ticker, start=start_date, end=end_date)\n",
            "[*********************100%***********************]  1 of 1 completed\n",
            "/tmp/ipython-input-566370483.py:2: FutureWarning: YF.download() has changed argument auto_adjust default to True\n",
            "  data = yf.download(ticker, start=start_date, end=end_date)\n",
            "[*********************100%***********************]  1 of 1 completed\n"
          ]
        }
      ]
    },
    {
      "cell_type": "code",
      "source": [
        "adj_close_df.shape"
      ],
      "metadata": {
        "colab": {
          "base_uri": "https://localhost:8080/"
        },
        "id": "5GjU83TowQ7R",
        "outputId": "1c4d4c8b-6218-4144-e7ac-373affa41726"
      },
      "execution_count": null,
      "outputs": [
        {
          "output_type": "execute_result",
          "data": {
            "text/plain": [
              "(250, 5)"
            ]
          },
          "metadata": {},
          "execution_count": 18
        }
      ]
    },
    {
      "cell_type": "markdown",
      "source": [
        "Calculating Daily Returns using Lognormal Returns"
      ],
      "metadata": {
        "id": "iHmURXu1xfKi"
      }
    },
    {
      "cell_type": "code",
      "source": [
        "log_returns = np.log(adj_close_df / adj_close_df.shift(1))\n",
        "log_returns.head()"
      ],
      "metadata": {
        "colab": {
          "base_uri": "https://localhost:8080/",
          "height": 235
        },
        "id": "8aGqNqNfwSt5",
        "outputId": "f108ad88-c8a0-4309-9fdd-82c66acc5ebb"
      },
      "execution_count": null,
      "outputs": [
        {
          "output_type": "execute_result",
          "data": {
            "text/plain": [
              "                 SPY       BND       GLD       QQQ       VTI\n",
              "Date                                                        \n",
              "2024-08-19       NaN       NaN       NaN       NaN       NaN\n",
              "2024-08-20 -0.001627  0.002955  0.003663 -0.002101 -0.002433\n",
              "2024-08-21  0.003431  0.002144 -0.001335  0.004653  0.005004\n",
              "2024-08-22 -0.007879 -0.004023 -0.012047 -0.015982 -0.008500\n",
              "2024-08-23  0.010569  0.004424  0.011487  0.010787  0.012579"
            ],
            "text/html": [
              "\n",
              "  <div id=\"df-33330ea3-a3bf-4c9d-90e6-77b12163a445\" class=\"colab-df-container\">\n",
              "    <div>\n",
              "<style scoped>\n",
              "    .dataframe tbody tr th:only-of-type {\n",
              "        vertical-align: middle;\n",
              "    }\n",
              "\n",
              "    .dataframe tbody tr th {\n",
              "        vertical-align: top;\n",
              "    }\n",
              "\n",
              "    .dataframe thead th {\n",
              "        text-align: right;\n",
              "    }\n",
              "</style>\n",
              "<table border=\"1\" class=\"dataframe\">\n",
              "  <thead>\n",
              "    <tr style=\"text-align: right;\">\n",
              "      <th></th>\n",
              "      <th>SPY</th>\n",
              "      <th>BND</th>\n",
              "      <th>GLD</th>\n",
              "      <th>QQQ</th>\n",
              "      <th>VTI</th>\n",
              "    </tr>\n",
              "    <tr>\n",
              "      <th>Date</th>\n",
              "      <th></th>\n",
              "      <th></th>\n",
              "      <th></th>\n",
              "      <th></th>\n",
              "      <th></th>\n",
              "    </tr>\n",
              "  </thead>\n",
              "  <tbody>\n",
              "    <tr>\n",
              "      <th>2024-08-19</th>\n",
              "      <td>NaN</td>\n",
              "      <td>NaN</td>\n",
              "      <td>NaN</td>\n",
              "      <td>NaN</td>\n",
              "      <td>NaN</td>\n",
              "    </tr>\n",
              "    <tr>\n",
              "      <th>2024-08-20</th>\n",
              "      <td>-0.001627</td>\n",
              "      <td>0.002955</td>\n",
              "      <td>0.003663</td>\n",
              "      <td>-0.002101</td>\n",
              "      <td>-0.002433</td>\n",
              "    </tr>\n",
              "    <tr>\n",
              "      <th>2024-08-21</th>\n",
              "      <td>0.003431</td>\n",
              "      <td>0.002144</td>\n",
              "      <td>-0.001335</td>\n",
              "      <td>0.004653</td>\n",
              "      <td>0.005004</td>\n",
              "    </tr>\n",
              "    <tr>\n",
              "      <th>2024-08-22</th>\n",
              "      <td>-0.007879</td>\n",
              "      <td>-0.004023</td>\n",
              "      <td>-0.012047</td>\n",
              "      <td>-0.015982</td>\n",
              "      <td>-0.008500</td>\n",
              "    </tr>\n",
              "    <tr>\n",
              "      <th>2024-08-23</th>\n",
              "      <td>0.010569</td>\n",
              "      <td>0.004424</td>\n",
              "      <td>0.011487</td>\n",
              "      <td>0.010787</td>\n",
              "      <td>0.012579</td>\n",
              "    </tr>\n",
              "  </tbody>\n",
              "</table>\n",
              "</div>\n",
              "    <div class=\"colab-df-buttons\">\n",
              "\n",
              "  <div class=\"colab-df-container\">\n",
              "    <button class=\"colab-df-convert\" onclick=\"convertToInteractive('df-33330ea3-a3bf-4c9d-90e6-77b12163a445')\"\n",
              "            title=\"Convert this dataframe to an interactive table.\"\n",
              "            style=\"display:none;\">\n",
              "\n",
              "  <svg xmlns=\"http://www.w3.org/2000/svg\" height=\"24px\" viewBox=\"0 -960 960 960\">\n",
              "    <path d=\"M120-120v-720h720v720H120Zm60-500h600v-160H180v160Zm220 220h160v-160H400v160Zm0 220h160v-160H400v160ZM180-400h160v-160H180v160Zm440 0h160v-160H620v160ZM180-180h160v-160H180v160Zm440 0h160v-160H620v160Z\"/>\n",
              "  </svg>\n",
              "    </button>\n",
              "\n",
              "  <style>\n",
              "    .colab-df-container {\n",
              "      display:flex;\n",
              "      gap: 12px;\n",
              "    }\n",
              "\n",
              "    .colab-df-convert {\n",
              "      background-color: #E8F0FE;\n",
              "      border: none;\n",
              "      border-radius: 50%;\n",
              "      cursor: pointer;\n",
              "      display: none;\n",
              "      fill: #1967D2;\n",
              "      height: 32px;\n",
              "      padding: 0 0 0 0;\n",
              "      width: 32px;\n",
              "    }\n",
              "\n",
              "    .colab-df-convert:hover {\n",
              "      background-color: #E2EBFA;\n",
              "      box-shadow: 0px 1px 2px rgba(60, 64, 67, 0.3), 0px 1px 3px 1px rgba(60, 64, 67, 0.15);\n",
              "      fill: #174EA6;\n",
              "    }\n",
              "\n",
              "    .colab-df-buttons div {\n",
              "      margin-bottom: 4px;\n",
              "    }\n",
              "\n",
              "    [theme=dark] .colab-df-convert {\n",
              "      background-color: #3B4455;\n",
              "      fill: #D2E3FC;\n",
              "    }\n",
              "\n",
              "    [theme=dark] .colab-df-convert:hover {\n",
              "      background-color: #434B5C;\n",
              "      box-shadow: 0px 1px 3px 1px rgba(0, 0, 0, 0.15);\n",
              "      filter: drop-shadow(0px 1px 2px rgba(0, 0, 0, 0.3));\n",
              "      fill: #FFFFFF;\n",
              "    }\n",
              "  </style>\n",
              "\n",
              "    <script>\n",
              "      const buttonEl =\n",
              "        document.querySelector('#df-33330ea3-a3bf-4c9d-90e6-77b12163a445 button.colab-df-convert');\n",
              "      buttonEl.style.display =\n",
              "        google.colab.kernel.accessAllowed ? 'block' : 'none';\n",
              "\n",
              "      async function convertToInteractive(key) {\n",
              "        const element = document.querySelector('#df-33330ea3-a3bf-4c9d-90e6-77b12163a445');\n",
              "        const dataTable =\n",
              "          await google.colab.kernel.invokeFunction('convertToInteractive',\n",
              "                                                    [key], {});\n",
              "        if (!dataTable) return;\n",
              "\n",
              "        const docLinkHtml = 'Like what you see? Visit the ' +\n",
              "          '<a target=\"_blank\" href=https://colab.research.google.com/notebooks/data_table.ipynb>data table notebook</a>'\n",
              "          + ' to learn more about interactive tables.';\n",
              "        element.innerHTML = '';\n",
              "        dataTable['output_type'] = 'display_data';\n",
              "        await google.colab.output.renderOutput(dataTable, element);\n",
              "        const docLink = document.createElement('div');\n",
              "        docLink.innerHTML = docLinkHtml;\n",
              "        element.appendChild(docLink);\n",
              "      }\n",
              "    </script>\n",
              "  </div>\n",
              "\n",
              "\n",
              "    <div id=\"df-e31d9ae7-52a3-446f-bcc0-85d3926b909d\">\n",
              "      <button class=\"colab-df-quickchart\" onclick=\"quickchart('df-e31d9ae7-52a3-446f-bcc0-85d3926b909d')\"\n",
              "                title=\"Suggest charts\"\n",
              "                style=\"display:none;\">\n",
              "\n",
              "<svg xmlns=\"http://www.w3.org/2000/svg\" height=\"24px\"viewBox=\"0 0 24 24\"\n",
              "     width=\"24px\">\n",
              "    <g>\n",
              "        <path d=\"M19 3H5c-1.1 0-2 .9-2 2v14c0 1.1.9 2 2 2h14c1.1 0 2-.9 2-2V5c0-1.1-.9-2-2-2zM9 17H7v-7h2v7zm4 0h-2V7h2v10zm4 0h-2v-4h2v4z\"/>\n",
              "    </g>\n",
              "</svg>\n",
              "      </button>\n",
              "\n",
              "<style>\n",
              "  .colab-df-quickchart {\n",
              "      --bg-color: #E8F0FE;\n",
              "      --fill-color: #1967D2;\n",
              "      --hover-bg-color: #E2EBFA;\n",
              "      --hover-fill-color: #174EA6;\n",
              "      --disabled-fill-color: #AAA;\n",
              "      --disabled-bg-color: #DDD;\n",
              "  }\n",
              "\n",
              "  [theme=dark] .colab-df-quickchart {\n",
              "      --bg-color: #3B4455;\n",
              "      --fill-color: #D2E3FC;\n",
              "      --hover-bg-color: #434B5C;\n",
              "      --hover-fill-color: #FFFFFF;\n",
              "      --disabled-bg-color: #3B4455;\n",
              "      --disabled-fill-color: #666;\n",
              "  }\n",
              "\n",
              "  .colab-df-quickchart {\n",
              "    background-color: var(--bg-color);\n",
              "    border: none;\n",
              "    border-radius: 50%;\n",
              "    cursor: pointer;\n",
              "    display: none;\n",
              "    fill: var(--fill-color);\n",
              "    height: 32px;\n",
              "    padding: 0;\n",
              "    width: 32px;\n",
              "  }\n",
              "\n",
              "  .colab-df-quickchart:hover {\n",
              "    background-color: var(--hover-bg-color);\n",
              "    box-shadow: 0 1px 2px rgba(60, 64, 67, 0.3), 0 1px 3px 1px rgba(60, 64, 67, 0.15);\n",
              "    fill: var(--button-hover-fill-color);\n",
              "  }\n",
              "\n",
              "  .colab-df-quickchart-complete:disabled,\n",
              "  .colab-df-quickchart-complete:disabled:hover {\n",
              "    background-color: var(--disabled-bg-color);\n",
              "    fill: var(--disabled-fill-color);\n",
              "    box-shadow: none;\n",
              "  }\n",
              "\n",
              "  .colab-df-spinner {\n",
              "    border: 2px solid var(--fill-color);\n",
              "    border-color: transparent;\n",
              "    border-bottom-color: var(--fill-color);\n",
              "    animation:\n",
              "      spin 1s steps(1) infinite;\n",
              "  }\n",
              "\n",
              "  @keyframes spin {\n",
              "    0% {\n",
              "      border-color: transparent;\n",
              "      border-bottom-color: var(--fill-color);\n",
              "      border-left-color: var(--fill-color);\n",
              "    }\n",
              "    20% {\n",
              "      border-color: transparent;\n",
              "      border-left-color: var(--fill-color);\n",
              "      border-top-color: var(--fill-color);\n",
              "    }\n",
              "    30% {\n",
              "      border-color: transparent;\n",
              "      border-left-color: var(--fill-color);\n",
              "      border-top-color: var(--fill-color);\n",
              "      border-right-color: var(--fill-color);\n",
              "    }\n",
              "    40% {\n",
              "      border-color: transparent;\n",
              "      border-right-color: var(--fill-color);\n",
              "      border-top-color: var(--fill-color);\n",
              "    }\n",
              "    60% {\n",
              "      border-color: transparent;\n",
              "      border-right-color: var(--fill-color);\n",
              "    }\n",
              "    80% {\n",
              "      border-color: transparent;\n",
              "      border-right-color: var(--fill-color);\n",
              "      border-bottom-color: var(--fill-color);\n",
              "    }\n",
              "    90% {\n",
              "      border-color: transparent;\n",
              "      border-bottom-color: var(--fill-color);\n",
              "    }\n",
              "  }\n",
              "</style>\n",
              "\n",
              "      <script>\n",
              "        async function quickchart(key) {\n",
              "          const quickchartButtonEl =\n",
              "            document.querySelector('#' + key + ' button');\n",
              "          quickchartButtonEl.disabled = true;  // To prevent multiple clicks.\n",
              "          quickchartButtonEl.classList.add('colab-df-spinner');\n",
              "          try {\n",
              "            const charts = await google.colab.kernel.invokeFunction(\n",
              "                'suggestCharts', [key], {});\n",
              "          } catch (error) {\n",
              "            console.error('Error during call to suggestCharts:', error);\n",
              "          }\n",
              "          quickchartButtonEl.classList.remove('colab-df-spinner');\n",
              "          quickchartButtonEl.classList.add('colab-df-quickchart-complete');\n",
              "        }\n",
              "        (() => {\n",
              "          let quickchartButtonEl =\n",
              "            document.querySelector('#df-e31d9ae7-52a3-446f-bcc0-85d3926b909d button');\n",
              "          quickchartButtonEl.style.display =\n",
              "            google.colab.kernel.accessAllowed ? 'block' : 'none';\n",
              "        })();\n",
              "      </script>\n",
              "    </div>\n",
              "\n",
              "    </div>\n",
              "  </div>\n"
            ],
            "application/vnd.google.colaboratory.intrinsic+json": {
              "type": "dataframe",
              "variable_name": "log_returns",
              "summary": "{\n  \"name\": \"log_returns\",\n  \"rows\": 250,\n  \"fields\": [\n    {\n      \"column\": \"Date\",\n      \"properties\": {\n        \"dtype\": \"date\",\n        \"min\": \"2024-08-19 00:00:00\",\n        \"max\": \"2025-08-18 00:00:00\",\n        \"num_unique_values\": 250,\n        \"samples\": [\n          \"2025-03-14 00:00:00\",\n          \"2024-08-27 00:00:00\",\n          \"2025-01-07 00:00:00\"\n        ],\n        \"semantic_type\": \"\",\n        \"description\": \"\"\n      }\n    },\n    {\n      \"column\": \"SPY\",\n      \"properties\": {\n        \"dtype\": \"number\",\n        \"std\": 0.012349394077513056,\n        \"min\": -0.060326558165215545,\n        \"max\": 0.0998628578098975,\n        \"num_unique_values\": 249,\n        \"samples\": [\n          -0.02699677996895823,\n          -0.005822308090388876,\n          0.0014597893752093909\n        ],\n        \"semantic_type\": \"\",\n        \"description\": \"\"\n      }\n    },\n    {\n      \"column\": \"BND\",\n      \"properties\": {\n        \"dtype\": \"number\",\n        \"std\": 0.0031557913170323923,\n        \"min\": -0.012129600462653442,\n        \"max\": 0.009187866383203073,\n        \"num_unique_values\": 247,\n        \"samples\": [\n          -0.002705060435406052,\n          -0.0006697624186269901,\n          -0.003464280298445973\n        ],\n        \"semantic_type\": \"\",\n        \"description\": \"\"\n      }\n    },\n    {\n      \"column\": \"GLD\",\n      \"properties\": {\n        \"dtype\": \"number\",\n        \"std\": 0.010986947729290467,\n        \"min\": -0.030857976694085517,\n        \"max\": 0.036323492196158734,\n        \"num_unique_values\": 249,\n        \"samples\": [\n          -0.008794495623060066,\n          -0.007051666972008083,\n          0.005301603121984425\n        ],\n        \"semantic_type\": \"\",\n        \"description\": \"\"\n      }\n    },\n    {\n      \"column\": \"QQQ\",\n      \"properties\": {\n        \"dtype\": \"number\",\n        \"std\": 0.015062194111354725,\n        \"min\": -0.06412141101697266,\n        \"max\": 0.11335614301331888,\n        \"num_unique_values\": 249,\n        \"samples\": [\n          -0.03952742739613904,\n          -0.011412368501150473,\n          0.00017471511296310706\n        ],\n        \"semantic_type\": \"\",\n        \"description\": \"\"\n      }\n    },\n    {\n      \"column\": \"VTI\",\n      \"properties\": {\n        \"dtype\": \"number\",\n        \"std\": 0.012346794594783144,\n        \"min\": -0.06047540970145475,\n        \"max\": 0.0966333789590518,\n        \"num_unique_values\": 248,\n        \"samples\": [\n          -0.009166641211027228,\n          -0.006116712852088201,\n          0.006765182600390013\n        ],\n        \"semantic_type\": \"\",\n        \"description\": \"\"\n      }\n    }\n  ]\n}"
            }
          },
          "metadata": {},
          "execution_count": 20
        }
      ]
    },
    {
      "cell_type": "markdown",
      "source": [
        "Checking for any nulll value"
      ],
      "metadata": {
        "id": "VnmXKg8JyKu8"
      }
    },
    {
      "cell_type": "code",
      "source": [
        "log_returns.isnull().sum()"
      ],
      "metadata": {
        "colab": {
          "base_uri": "https://localhost:8080/",
          "height": 238
        },
        "id": "X_sAhbzRxutr",
        "outputId": "8cf1fe87-faba-48de-942a-23e1cf8383cc"
      },
      "execution_count": null,
      "outputs": [
        {
          "output_type": "execute_result",
          "data": {
            "text/plain": [
              "SPY    1\n",
              "BND    1\n",
              "GLD    1\n",
              "QQQ    1\n",
              "VTI    1\n",
              "dtype: int64"
            ],
            "text/html": [
              "<div>\n",
              "<style scoped>\n",
              "    .dataframe tbody tr th:only-of-type {\n",
              "        vertical-align: middle;\n",
              "    }\n",
              "\n",
              "    .dataframe tbody tr th {\n",
              "        vertical-align: top;\n",
              "    }\n",
              "\n",
              "    .dataframe thead th {\n",
              "        text-align: right;\n",
              "    }\n",
              "</style>\n",
              "<table border=\"1\" class=\"dataframe\">\n",
              "  <thead>\n",
              "    <tr style=\"text-align: right;\">\n",
              "      <th></th>\n",
              "      <th>0</th>\n",
              "    </tr>\n",
              "  </thead>\n",
              "  <tbody>\n",
              "    <tr>\n",
              "      <th>SPY</th>\n",
              "      <td>1</td>\n",
              "    </tr>\n",
              "    <tr>\n",
              "      <th>BND</th>\n",
              "      <td>1</td>\n",
              "    </tr>\n",
              "    <tr>\n",
              "      <th>GLD</th>\n",
              "      <td>1</td>\n",
              "    </tr>\n",
              "    <tr>\n",
              "      <th>QQQ</th>\n",
              "      <td>1</td>\n",
              "    </tr>\n",
              "    <tr>\n",
              "      <th>VTI</th>\n",
              "      <td>1</td>\n",
              "    </tr>\n",
              "  </tbody>\n",
              "</table>\n",
              "</div><br><label><b>dtype:</b> int64</label>"
            ]
          },
          "metadata": {},
          "execution_count": 23
        }
      ]
    },
    {
      "cell_type": "code",
      "source": [
        "log_returns.info()"
      ],
      "metadata": {
        "colab": {
          "base_uri": "https://localhost:8080/"
        },
        "id": "m7r0w_8wx1YC",
        "outputId": "c1df4f90-d26c-41f7-c555-f883b797495c"
      },
      "execution_count": null,
      "outputs": [
        {
          "output_type": "stream",
          "name": "stdout",
          "text": [
            "<class 'pandas.core.frame.DataFrame'>\n",
            "DatetimeIndex: 250 entries, 2024-08-19 to 2025-08-18\n",
            "Data columns (total 5 columns):\n",
            " #   Column  Non-Null Count  Dtype  \n",
            "---  ------  --------------  -----  \n",
            " 0   SPY     249 non-null    float64\n",
            " 1   BND     249 non-null    float64\n",
            " 2   GLD     249 non-null    float64\n",
            " 3   QQQ     249 non-null    float64\n",
            " 4   VTI     249 non-null    float64\n",
            "dtypes: float64(5)\n",
            "memory usage: 11.7 KB\n"
          ]
        }
      ]
    },
    {
      "cell_type": "markdown",
      "source": [
        "Dropping Null Rows"
      ],
      "metadata": {
        "id": "cBAtHpqryTlm"
      }
    },
    {
      "cell_type": "code",
      "source": [
        "log_returns = log_returns.dropna(axis = 0)"
      ],
      "metadata": {
        "id": "0YohJh-lx6vV"
      },
      "execution_count": null,
      "outputs": []
    },
    {
      "cell_type": "code",
      "source": [
        "log_returns.isnull().sum()"
      ],
      "metadata": {
        "colab": {
          "base_uri": "https://localhost:8080/",
          "height": 238
        },
        "id": "s-2U0nzsyEje",
        "outputId": "a8cf9391-14e0-4ff0-bb54-63b6a4082691"
      },
      "execution_count": null,
      "outputs": [
        {
          "output_type": "execute_result",
          "data": {
            "text/plain": [
              "SPY    0\n",
              "BND    0\n",
              "GLD    0\n",
              "QQQ    0\n",
              "VTI    0\n",
              "dtype: int64"
            ],
            "text/html": [
              "<div>\n",
              "<style scoped>\n",
              "    .dataframe tbody tr th:only-of-type {\n",
              "        vertical-align: middle;\n",
              "    }\n",
              "\n",
              "    .dataframe tbody tr th {\n",
              "        vertical-align: top;\n",
              "    }\n",
              "\n",
              "    .dataframe thead th {\n",
              "        text-align: right;\n",
              "    }\n",
              "</style>\n",
              "<table border=\"1\" class=\"dataframe\">\n",
              "  <thead>\n",
              "    <tr style=\"text-align: right;\">\n",
              "      <th></th>\n",
              "      <th>0</th>\n",
              "    </tr>\n",
              "  </thead>\n",
              "  <tbody>\n",
              "    <tr>\n",
              "      <th>SPY</th>\n",
              "      <td>0</td>\n",
              "    </tr>\n",
              "    <tr>\n",
              "      <th>BND</th>\n",
              "      <td>0</td>\n",
              "    </tr>\n",
              "    <tr>\n",
              "      <th>GLD</th>\n",
              "      <td>0</td>\n",
              "    </tr>\n",
              "    <tr>\n",
              "      <th>QQQ</th>\n",
              "      <td>0</td>\n",
              "    </tr>\n",
              "    <tr>\n",
              "      <th>VTI</th>\n",
              "      <td>0</td>\n",
              "    </tr>\n",
              "  </tbody>\n",
              "</table>\n",
              "</div><br><label><b>dtype:</b> int64</label>"
            ]
          },
          "metadata": {},
          "execution_count": 31
        }
      ]
    },
    {
      "cell_type": "markdown",
      "source": [
        "# **Calculating Covariance Matrix**"
      ],
      "metadata": {
        "id": "qF9O6l6Yyfdc"
      }
    },
    {
      "cell_type": "markdown",
      "source": [
        "Calculating Covariance matrix using log returns"
      ],
      "metadata": {
        "id": "prqC_l2Uyr8m"
      }
    },
    {
      "cell_type": "code",
      "source": [
        "trading_days_in_year = 252"
      ],
      "metadata": {
        "id": "-z3xVYns7iEH"
      },
      "execution_count": null,
      "outputs": []
    },
    {
      "cell_type": "code",
      "source": [
        "cov_matrix = log_returns.cov() * trading_days_in_year"
      ],
      "metadata": {
        "id": "y5o0NpSfyHuE"
      },
      "execution_count": null,
      "outputs": []
    },
    {
      "cell_type": "code",
      "source": [
        "cov_matrix.head()"
      ],
      "metadata": {
        "colab": {
          "base_uri": "https://localhost:8080/",
          "height": 204
        },
        "id": "nWUAE0NWy1lt",
        "outputId": "3de3b2d8-f356-40b4-fe94-e1e4c3fb4e61"
      },
      "execution_count": null,
      "outputs": [
        {
          "output_type": "execute_result",
          "data": {
            "text/plain": [
              "          SPY       BND       GLD       QQQ       VTI\n",
              "SPY  0.038432  0.000754  0.001043  0.045394  0.038342\n",
              "BND  0.000754  0.002510  0.001572  0.000297  0.000778\n",
              "GLD  0.001043  0.001572  0.030420  0.001637  0.000936\n",
              "QQQ  0.045394  0.000297  0.001637  0.057171  0.045242\n",
              "VTI  0.038342  0.000778  0.000936  0.045242  0.038416"
            ],
            "text/html": [
              "\n",
              "  <div id=\"df-d7f87795-cc3b-4416-b114-cdf11ed34389\" class=\"colab-df-container\">\n",
              "    <div>\n",
              "<style scoped>\n",
              "    .dataframe tbody tr th:only-of-type {\n",
              "        vertical-align: middle;\n",
              "    }\n",
              "\n",
              "    .dataframe tbody tr th {\n",
              "        vertical-align: top;\n",
              "    }\n",
              "\n",
              "    .dataframe thead th {\n",
              "        text-align: right;\n",
              "    }\n",
              "</style>\n",
              "<table border=\"1\" class=\"dataframe\">\n",
              "  <thead>\n",
              "    <tr style=\"text-align: right;\">\n",
              "      <th></th>\n",
              "      <th>SPY</th>\n",
              "      <th>BND</th>\n",
              "      <th>GLD</th>\n",
              "      <th>QQQ</th>\n",
              "      <th>VTI</th>\n",
              "    </tr>\n",
              "  </thead>\n",
              "  <tbody>\n",
              "    <tr>\n",
              "      <th>SPY</th>\n",
              "      <td>0.038432</td>\n",
              "      <td>0.000754</td>\n",
              "      <td>0.001043</td>\n",
              "      <td>0.045394</td>\n",
              "      <td>0.038342</td>\n",
              "    </tr>\n",
              "    <tr>\n",
              "      <th>BND</th>\n",
              "      <td>0.000754</td>\n",
              "      <td>0.002510</td>\n",
              "      <td>0.001572</td>\n",
              "      <td>0.000297</td>\n",
              "      <td>0.000778</td>\n",
              "    </tr>\n",
              "    <tr>\n",
              "      <th>GLD</th>\n",
              "      <td>0.001043</td>\n",
              "      <td>0.001572</td>\n",
              "      <td>0.030420</td>\n",
              "      <td>0.001637</td>\n",
              "      <td>0.000936</td>\n",
              "    </tr>\n",
              "    <tr>\n",
              "      <th>QQQ</th>\n",
              "      <td>0.045394</td>\n",
              "      <td>0.000297</td>\n",
              "      <td>0.001637</td>\n",
              "      <td>0.057171</td>\n",
              "      <td>0.045242</td>\n",
              "    </tr>\n",
              "    <tr>\n",
              "      <th>VTI</th>\n",
              "      <td>0.038342</td>\n",
              "      <td>0.000778</td>\n",
              "      <td>0.000936</td>\n",
              "      <td>0.045242</td>\n",
              "      <td>0.038416</td>\n",
              "    </tr>\n",
              "  </tbody>\n",
              "</table>\n",
              "</div>\n",
              "    <div class=\"colab-df-buttons\">\n",
              "\n",
              "  <div class=\"colab-df-container\">\n",
              "    <button class=\"colab-df-convert\" onclick=\"convertToInteractive('df-d7f87795-cc3b-4416-b114-cdf11ed34389')\"\n",
              "            title=\"Convert this dataframe to an interactive table.\"\n",
              "            style=\"display:none;\">\n",
              "\n",
              "  <svg xmlns=\"http://www.w3.org/2000/svg\" height=\"24px\" viewBox=\"0 -960 960 960\">\n",
              "    <path d=\"M120-120v-720h720v720H120Zm60-500h600v-160H180v160Zm220 220h160v-160H400v160Zm0 220h160v-160H400v160ZM180-400h160v-160H180v160Zm440 0h160v-160H620v160ZM180-180h160v-160H180v160Zm440 0h160v-160H620v160Z\"/>\n",
              "  </svg>\n",
              "    </button>\n",
              "\n",
              "  <style>\n",
              "    .colab-df-container {\n",
              "      display:flex;\n",
              "      gap: 12px;\n",
              "    }\n",
              "\n",
              "    .colab-df-convert {\n",
              "      background-color: #E8F0FE;\n",
              "      border: none;\n",
              "      border-radius: 50%;\n",
              "      cursor: pointer;\n",
              "      display: none;\n",
              "      fill: #1967D2;\n",
              "      height: 32px;\n",
              "      padding: 0 0 0 0;\n",
              "      width: 32px;\n",
              "    }\n",
              "\n",
              "    .colab-df-convert:hover {\n",
              "      background-color: #E2EBFA;\n",
              "      box-shadow: 0px 1px 2px rgba(60, 64, 67, 0.3), 0px 1px 3px 1px rgba(60, 64, 67, 0.15);\n",
              "      fill: #174EA6;\n",
              "    }\n",
              "\n",
              "    .colab-df-buttons div {\n",
              "      margin-bottom: 4px;\n",
              "    }\n",
              "\n",
              "    [theme=dark] .colab-df-convert {\n",
              "      background-color: #3B4455;\n",
              "      fill: #D2E3FC;\n",
              "    }\n",
              "\n",
              "    [theme=dark] .colab-df-convert:hover {\n",
              "      background-color: #434B5C;\n",
              "      box-shadow: 0px 1px 3px 1px rgba(0, 0, 0, 0.15);\n",
              "      filter: drop-shadow(0px 1px 2px rgba(0, 0, 0, 0.3));\n",
              "      fill: #FFFFFF;\n",
              "    }\n",
              "  </style>\n",
              "\n",
              "    <script>\n",
              "      const buttonEl =\n",
              "        document.querySelector('#df-d7f87795-cc3b-4416-b114-cdf11ed34389 button.colab-df-convert');\n",
              "      buttonEl.style.display =\n",
              "        google.colab.kernel.accessAllowed ? 'block' : 'none';\n",
              "\n",
              "      async function convertToInteractive(key) {\n",
              "        const element = document.querySelector('#df-d7f87795-cc3b-4416-b114-cdf11ed34389');\n",
              "        const dataTable =\n",
              "          await google.colab.kernel.invokeFunction('convertToInteractive',\n",
              "                                                    [key], {});\n",
              "        if (!dataTable) return;\n",
              "\n",
              "        const docLinkHtml = 'Like what you see? Visit the ' +\n",
              "          '<a target=\"_blank\" href=https://colab.research.google.com/notebooks/data_table.ipynb>data table notebook</a>'\n",
              "          + ' to learn more about interactive tables.';\n",
              "        element.innerHTML = '';\n",
              "        dataTable['output_type'] = 'display_data';\n",
              "        await google.colab.output.renderOutput(dataTable, element);\n",
              "        const docLink = document.createElement('div');\n",
              "        docLink.innerHTML = docLinkHtml;\n",
              "        element.appendChild(docLink);\n",
              "      }\n",
              "    </script>\n",
              "  </div>\n",
              "\n",
              "\n",
              "    <div id=\"df-b2cf4fb9-f1f4-4b7e-983d-3754c87c57e0\">\n",
              "      <button class=\"colab-df-quickchart\" onclick=\"quickchart('df-b2cf4fb9-f1f4-4b7e-983d-3754c87c57e0')\"\n",
              "                title=\"Suggest charts\"\n",
              "                style=\"display:none;\">\n",
              "\n",
              "<svg xmlns=\"http://www.w3.org/2000/svg\" height=\"24px\"viewBox=\"0 0 24 24\"\n",
              "     width=\"24px\">\n",
              "    <g>\n",
              "        <path d=\"M19 3H5c-1.1 0-2 .9-2 2v14c0 1.1.9 2 2 2h14c1.1 0 2-.9 2-2V5c0-1.1-.9-2-2-2zM9 17H7v-7h2v7zm4 0h-2V7h2v10zm4 0h-2v-4h2v4z\"/>\n",
              "    </g>\n",
              "</svg>\n",
              "      </button>\n",
              "\n",
              "<style>\n",
              "  .colab-df-quickchart {\n",
              "      --bg-color: #E8F0FE;\n",
              "      --fill-color: #1967D2;\n",
              "      --hover-bg-color: #E2EBFA;\n",
              "      --hover-fill-color: #174EA6;\n",
              "      --disabled-fill-color: #AAA;\n",
              "      --disabled-bg-color: #DDD;\n",
              "  }\n",
              "\n",
              "  [theme=dark] .colab-df-quickchart {\n",
              "      --bg-color: #3B4455;\n",
              "      --fill-color: #D2E3FC;\n",
              "      --hover-bg-color: #434B5C;\n",
              "      --hover-fill-color: #FFFFFF;\n",
              "      --disabled-bg-color: #3B4455;\n",
              "      --disabled-fill-color: #666;\n",
              "  }\n",
              "\n",
              "  .colab-df-quickchart {\n",
              "    background-color: var(--bg-color);\n",
              "    border: none;\n",
              "    border-radius: 50%;\n",
              "    cursor: pointer;\n",
              "    display: none;\n",
              "    fill: var(--fill-color);\n",
              "    height: 32px;\n",
              "    padding: 0;\n",
              "    width: 32px;\n",
              "  }\n",
              "\n",
              "  .colab-df-quickchart:hover {\n",
              "    background-color: var(--hover-bg-color);\n",
              "    box-shadow: 0 1px 2px rgba(60, 64, 67, 0.3), 0 1px 3px 1px rgba(60, 64, 67, 0.15);\n",
              "    fill: var(--button-hover-fill-color);\n",
              "  }\n",
              "\n",
              "  .colab-df-quickchart-complete:disabled,\n",
              "  .colab-df-quickchart-complete:disabled:hover {\n",
              "    background-color: var(--disabled-bg-color);\n",
              "    fill: var(--disabled-fill-color);\n",
              "    box-shadow: none;\n",
              "  }\n",
              "\n",
              "  .colab-df-spinner {\n",
              "    border: 2px solid var(--fill-color);\n",
              "    border-color: transparent;\n",
              "    border-bottom-color: var(--fill-color);\n",
              "    animation:\n",
              "      spin 1s steps(1) infinite;\n",
              "  }\n",
              "\n",
              "  @keyframes spin {\n",
              "    0% {\n",
              "      border-color: transparent;\n",
              "      border-bottom-color: var(--fill-color);\n",
              "      border-left-color: var(--fill-color);\n",
              "    }\n",
              "    20% {\n",
              "      border-color: transparent;\n",
              "      border-left-color: var(--fill-color);\n",
              "      border-top-color: var(--fill-color);\n",
              "    }\n",
              "    30% {\n",
              "      border-color: transparent;\n",
              "      border-left-color: var(--fill-color);\n",
              "      border-top-color: var(--fill-color);\n",
              "      border-right-color: var(--fill-color);\n",
              "    }\n",
              "    40% {\n",
              "      border-color: transparent;\n",
              "      border-right-color: var(--fill-color);\n",
              "      border-top-color: var(--fill-color);\n",
              "    }\n",
              "    60% {\n",
              "      border-color: transparent;\n",
              "      border-right-color: var(--fill-color);\n",
              "    }\n",
              "    80% {\n",
              "      border-color: transparent;\n",
              "      border-right-color: var(--fill-color);\n",
              "      border-bottom-color: var(--fill-color);\n",
              "    }\n",
              "    90% {\n",
              "      border-color: transparent;\n",
              "      border-bottom-color: var(--fill-color);\n",
              "    }\n",
              "  }\n",
              "</style>\n",
              "\n",
              "      <script>\n",
              "        async function quickchart(key) {\n",
              "          const quickchartButtonEl =\n",
              "            document.querySelector('#' + key + ' button');\n",
              "          quickchartButtonEl.disabled = true;  // To prevent multiple clicks.\n",
              "          quickchartButtonEl.classList.add('colab-df-spinner');\n",
              "          try {\n",
              "            const charts = await google.colab.kernel.invokeFunction(\n",
              "                'suggestCharts', [key], {});\n",
              "          } catch (error) {\n",
              "            console.error('Error during call to suggestCharts:', error);\n",
              "          }\n",
              "          quickchartButtonEl.classList.remove('colab-df-spinner');\n",
              "          quickchartButtonEl.classList.add('colab-df-quickchart-complete');\n",
              "        }\n",
              "        (() => {\n",
              "          let quickchartButtonEl =\n",
              "            document.querySelector('#df-b2cf4fb9-f1f4-4b7e-983d-3754c87c57e0 button');\n",
              "          quickchartButtonEl.style.display =\n",
              "            google.colab.kernel.accessAllowed ? 'block' : 'none';\n",
              "        })();\n",
              "      </script>\n",
              "    </div>\n",
              "\n",
              "    </div>\n",
              "  </div>\n"
            ],
            "application/vnd.google.colaboratory.intrinsic+json": {
              "type": "dataframe",
              "variable_name": "cov_matrix",
              "summary": "{\n  \"name\": \"cov_matrix\",\n  \"rows\": 5,\n  \"fields\": [\n    {\n      \"column\": \"SPY\",\n      \"properties\": {\n        \"dtype\": \"number\",\n        \"std\": 0.021999693510502974,\n        \"min\": 0.0007539456598204429,\n        \"max\": 0.045394349131477406,\n        \"num_unique_values\": 5,\n        \"samples\": [\n          0.0007539456598204429,\n          0.038341938873283535,\n          0.001043030751165629\n        ],\n        \"semantic_type\": \"\",\n        \"description\": \"\"\n      }\n    },\n    {\n      \"column\": \"BND\",\n      \"properties\": {\n        \"dtype\": \"number\",\n        \"std\": 0.0008724100192836747,\n        \"min\": 0.0002972407810818403,\n        \"max\": 0.0025096727468375745,\n        \"num_unique_values\": 5,\n        \"samples\": [\n          0.0025096727468375745,\n          0.0007780520071720523,\n          0.0015724856719796555\n        ],\n        \"semantic_type\": \"\",\n        \"description\": \"\"\n      }\n    },\n    {\n      \"column\": \"GLD\",\n      \"properties\": {\n        \"dtype\": \"number\",\n        \"std\": 0.01302770487156612,\n        \"min\": 0.0009360783998666198,\n        \"max\": 0.03041968114235256,\n        \"num_unique_values\": 5,\n        \"samples\": [\n          0.0015724856719796555,\n          0.0009360783998666198,\n          0.03041968114235256\n        ],\n        \"semantic_type\": \"\",\n        \"description\": \"\"\n      }\n    },\n    {\n      \"column\": \"QQQ\",\n      \"properties\": {\n        \"dtype\": \"number\",\n        \"std\": 0.026899304233743385,\n        \"min\": 0.0002972407810818403,\n        \"max\": 0.0571711622449285,\n        \"num_unique_values\": 5,\n        \"samples\": [\n          0.0002972407810818403,\n          0.04524233397542758,\n          0.0016369449905578454\n        ],\n        \"semantic_type\": \"\",\n        \"description\": \"\"\n      }\n    },\n    {\n      \"column\": \"VTI\",\n      \"properties\": {\n        \"dtype\": \"number\",\n        \"std\": 0.02198400200138333,\n        \"min\": 0.0007780520071720523,\n        \"max\": 0.04524233397542758,\n        \"num_unique_values\": 5,\n        \"samples\": [\n          0.0007780520071720523,\n          0.038415720864973094,\n          0.0009360783998666198\n        ],\n        \"semantic_type\": \"\",\n        \"description\": \"\"\n      }\n    }\n  ]\n}"
            }
          },
          "metadata": {},
          "execution_count": 40
        }
      ]
    },
    {
      "cell_type": "markdown",
      "source": [
        "# **Defining Portfolio Performance Metrics**"
      ],
      "metadata": {
        "id": "klaxhPXdzEpZ"
      }
    },
    {
      "cell_type": "markdown",
      "source": [
        "**Calculating portfolio standard deviation**"
      ],
      "metadata": {
        "id": "kWeSdvbczKoq"
      }
    },
    {
      "cell_type": "code",
      "source": [
        "def standard_deviation(weights, cov_matrix):\n",
        "  variance = weights.T @ cov_matrix @ weights\n",
        "  return np.sqrt(variance)"
      ],
      "metadata": {
        "id": "UlVfVzLIzKdb"
      },
      "execution_count": null,
      "outputs": []
    },
    {
      "cell_type": "markdown",
      "source": [
        "**Calculating Expected Returns which will be based on historical returns**"
      ],
      "metadata": {
        "id": "pBe2Gpzy7LCz"
      }
    },
    {
      "cell_type": "code",
      "source": [
        "def expected_returns(weights, log_returns):\n",
        "  return np.sum(log_returns.mean() * weights) * trading_days_in_year"
      ],
      "metadata": {
        "id": "AwPI1vdV7Km7"
      },
      "execution_count": null,
      "outputs": []
    },
    {
      "cell_type": "markdown",
      "source": [
        "**Calculating Sharpe Ratio**"
      ],
      "metadata": {
        "id": "gXuQt2YK73Bc"
      }
    },
    {
      "cell_type": "code",
      "source": [
        "\"\"\"\n",
        "Sharp Ratio is nothing but the difference between\n",
        "portfolio returns and Risk free returns per standard Deviation\n",
        "\"\"\"\n",
        "def sharpe_ratio(weights, log_returns, cov_matrix, risk_free_rate):\n",
        "  return (expected_returns(weights, log_returns) / standard_deviation(weights, cov_matrix))"
      ],
      "metadata": {
        "id": "19PKnb6C7fNO"
      },
      "execution_count": null,
      "outputs": []
    },
    {
      "cell_type": "markdown",
      "source": [
        "# **Portfolio Optimization**"
      ],
      "metadata": {
        "id": "TtzPJcz38bVk"
      }
    },
    {
      "cell_type": "markdown",
      "source": [
        "Setting risk-free rate"
      ],
      "metadata": {
        "id": "x7HTHpkB8eQG"
      }
    },
    {
      "cell_type": "code",
      "source": [
        "### API Endpoint: https://api.stlouisfed.org/fred/series/search?api_key=abcdefghijklmnopqrstuvwxyz123456&search_text=canada\n",
        "## URL for Refference\n",
        "# https://fred.stlouisfed.org/docs/api/api_key.html"
      ],
      "metadata": {
        "id": "Xmz0yN9n8Z_I"
      },
      "execution_count": null,
      "outputs": []
    },
    {
      "cell_type": "code",
      "source": [
        "%pip install fredapi\n",
        "from fredapi import Fred"
      ],
      "metadata": {
        "colab": {
          "base_uri": "https://localhost:8080/"
        },
        "id": "FsfiJONr9A2b",
        "outputId": "07496adc-9d9d-4024-d82e-3f99a38a3e27"
      },
      "execution_count": null,
      "outputs": [
        {
          "output_type": "stream",
          "name": "stdout",
          "text": [
            "Collecting fredapi\n",
            "  Downloading fredapi-0.5.2-py3-none-any.whl.metadata (5.0 kB)\n",
            "Requirement already satisfied: pandas in /usr/local/lib/python3.11/dist-packages (from fredapi) (2.2.2)\n",
            "Requirement already satisfied: numpy>=1.23.2 in /usr/local/lib/python3.11/dist-packages (from pandas->fredapi) (2.0.2)\n",
            "Requirement already satisfied: python-dateutil>=2.8.2 in /usr/local/lib/python3.11/dist-packages (from pandas->fredapi) (2.9.0.post0)\n",
            "Requirement already satisfied: pytz>=2020.1 in /usr/local/lib/python3.11/dist-packages (from pandas->fredapi) (2025.2)\n",
            "Requirement already satisfied: tzdata>=2022.7 in /usr/local/lib/python3.11/dist-packages (from pandas->fredapi) (2025.2)\n",
            "Requirement already satisfied: six>=1.5 in /usr/local/lib/python3.11/dist-packages (from python-dateutil>=2.8.2->pandas->fredapi) (1.17.0)\n",
            "Downloading fredapi-0.5.2-py3-none-any.whl (11 kB)\n",
            "Installing collected packages: fredapi\n",
            "Successfully installed fredapi-0.5.2\n"
          ]
        }
      ]
    },
    {
      "cell_type": "code",
      "source": [
        "fred = Fred(api_key='Removied Actual Used API Key')\n",
        "ten_year_treasury_rate = fred.get_series_latest_release('GS10')/100\n",
        "\n",
        "# Setting risk free rate\n",
        "risk_free_rate = ten_year_treasury_rate.iloc[-1]\n",
        "print(risk_free_rate)"
      ],
      "metadata": {
        "colab": {
          "base_uri": "https://localhost:8080/"
        },
        "id": "8rkJvN2Z9aaJ",
        "outputId": "17c6bb83-af9f-4840-bad9-d32e44b93b23"
      },
      "execution_count": null,
      "outputs": [
        {
          "output_type": "stream",
          "name": "stdout",
          "text": [
            "0.043899999999999995\n"
          ]
        }
      ]
    },
    {
      "cell_type": "markdown",
      "source": [
        "# **Negative Sharpe Ratio Function**"
      ],
      "metadata": {
        "id": "TUN49uah-iQv"
      }
    },
    {
      "cell_type": "code",
      "source": [
        "def negative_sharpe_ratio(weights, log_returns):\n",
        "  return -sharpe_ratio(weights, log_returns, cov_matrix, risk_free_rate)"
      ],
      "metadata": {
        "id": "A32cRbLt-cou"
      },
      "execution_count": null,
      "outputs": []
    },
    {
      "cell_type": "markdown",
      "source": [
        "**Setting Constraints and Bounds**"
      ],
      "metadata": {
        "id": "F2TRu4TV_K0X"
      }
    },
    {
      "cell_type": "code",
      "source": [
        "Constraints = {'type': 'eq', 'fun': lambda x: np.sum(x) - 1}\n",
        "Bounds = tuple((0, 0.5) for x in range(len(tickers)))"
      ],
      "metadata": {
        "id": "OXN-06nX-ycz"
      },
      "execution_count": null,
      "outputs": []
    },
    {
      "cell_type": "markdown",
      "source": [
        "**Setting initial weights**"
      ],
      "metadata": {
        "id": "LKhaGc3L_gL2"
      }
    },
    {
      "cell_type": "code",
      "source": [
        "initial_weights = np.array([1/len(tickers)]*len(tickers))\n",
        "print(initial_weights)"
      ],
      "metadata": {
        "colab": {
          "base_uri": "https://localhost:8080/"
        },
        "id": "bzBqZBTo_Qph",
        "outputId": "e6483372-53fd-4e01-9122-dbd24937e25f"
      },
      "execution_count": null,
      "outputs": [
        {
          "output_type": "stream",
          "name": "stdout",
          "text": [
            "[0.2 0.2 0.2 0.2 0.2]\n"
          ]
        }
      ]
    },
    {
      "cell_type": "markdown",
      "source": [
        "**Optimizing Weights to maximize Sharpe Ratio**"
      ],
      "metadata": {
        "id": "OarPrCQ5AB28"
      }
    },
    {
      "cell_type": "code",
      "source": [
        "optimized_results = minimize(negative_sharpe_ratio, initial_weights, method='SLSQP', bounds=Bounds, constraints=Constraints, args=(log_returns,))"
      ],
      "metadata": {
        "id": "PaxmRA0R_-_9"
      },
      "execution_count": null,
      "outputs": []
    },
    {
      "cell_type": "code",
      "source": [
        "optimal_weights = optimized_results.x"
      ],
      "metadata": {
        "id": "Mxa_k4REBLBX"
      },
      "execution_count": null,
      "outputs": []
    },
    {
      "cell_type": "markdown",
      "source": [
        "## **Analyze the Optimal Portfolio**"
      ],
      "metadata": {
        "id": "gRGR25dkBTnj"
      }
    },
    {
      "cell_type": "code",
      "source": [
        "print(\"Optimal Weights:\")\n",
        "for ticker, weight in zip(tickers, optimal_weights):\n",
        "    print(f\"{ticker}: {weight:.4f}\")\n",
        "\n",
        "print()\n",
        "\n",
        "optimal_portfolio_returns = expected_returns(optimal_weights, log_returns)\n",
        "optimal_potfolio_volatility = standard_deviation(optimal_weights, cov_matrix)\n",
        "optimal_sharpe_ratio = sharpe_ratio(optimal_weights, log_returns, cov_matrix, risk_free_rate)\n",
        "\n",
        "\n",
        "print(f\"Expected Portfolio Returns: {optimal_portfolio_returns:.4f}\")\n",
        "print(f\"Portfolio Volatility: {optimal_potfolio_volatility:.4f}\")\n",
        "print(f\"Sharpe Ratio: {optimal_sharpe_ratio:.4f}\")"
      ],
      "metadata": {
        "colab": {
          "base_uri": "https://localhost:8080/"
        },
        "id": "aJRrHVJ2BR2u",
        "outputId": "fedda75f-a8a1-4fc6-a380-c80ccc112c40"
      },
      "execution_count": null,
      "outputs": [
        {
          "output_type": "stream",
          "name": "stdout",
          "text": [
            "Optimal Weights:\n",
            "SPY: 0.0000\n",
            "BND: 0.3061\n",
            "GLD: 0.5000\n",
            "QQQ: 0.1093\n",
            "VTI: 0.0845\n",
            "\n",
            "Expected Portfolio Returns: 0.1838\n",
            "Portfolio Volatility: 0.1021\n",
            "Sharpe Ratio: 1.7992\n"
          ]
        }
      ]
    },
    {
      "cell_type": "markdown",
      "source": [
        "# **Visualizing Final Portfolio Plot**"
      ],
      "metadata": {
        "id": "3Gair4GKB9qu"
      }
    },
    {
      "cell_type": "code",
      "source": [
        "plt.figure(figsize=(10, 6))\n",
        "plt.xlabel(\"Asset\")\n",
        "plt.ylabel(\"Optimal weights\")\n",
        "plt.title(\"Optimal Portfolio Weights\")\n",
        "plt.bar(tickers, optimal_weights)\n",
        "plt.show()"
      ],
      "metadata": {
        "colab": {
          "base_uri": "https://localhost:8080/",
          "height": 584
        },
        "id": "Vox9TrEDB7mx",
        "outputId": "c5e29f1d-4f56-4b5c-e32d-953999e0dff5"
      },
      "execution_count": null,
      "outputs": [
        {
          "output_type": "display_data",
          "data": {
            "text/plain": [
              "<Figure size 1000x600 with 1 Axes>"
            ],
            "image/png": "[encoded data removed]"
          },
          "metadata": {}
        }
      ]
    }
  ]
}